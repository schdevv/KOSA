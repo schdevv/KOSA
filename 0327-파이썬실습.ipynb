{
 "cells": [
  {
   "cell_type": "code",
   "execution_count": 1,
   "metadata": {
    "colab": {
     "base_uri": "https://localhost:8080/",
     "height": 0
    },
    "executionInfo": {
     "elapsed": 383,
     "status": "ok",
     "timestamp": 1679877606024,
     "user": {
      "displayName": "송창희",
      "userId": "00022936904453756715"
     },
     "user_tz": -540
    },
    "id": "D-2gLMUke-F2",
    "outputId": "06031c0e-392e-47c8-aa1a-43cedd59f652"
   },
   "outputs": [
    {
     "name": "stdout",
     "output_type": "stream",
     "text": [
      "이것은 소리없는 아우성!\n"
     ]
    }
   ],
   "source": [
    "# 이 상자를 cell 이라고 불러요\n",
    "# cell을 실행시키려면 컨트롤 + Enter키 \n",
    "# 새로운 cell을 아래쪽에 추가하려면? b\n",
    "# 새로운 cell을 위에 추가하려면? a\n",
    "\n",
    "print('이것은 소리없는 아우성!')\n"
   ]
  },
  {
   "cell_type": "code",
   "execution_count": null,
   "metadata": {
    "id": "wLUEJtfilrBl"
   },
   "outputs": [],
   "source": [
    "# 주석\n",
    "# 한줄짜리 주석은 #\n",
    "# 여려줄은 '''  '''\n",
    "'''\n",
    "a = 1\n",
    "b = 2\n",
    "'''\n",
    "\n",
    "a=1\n",
    "b=1"
   ]
  },
  {
   "cell_type": "code",
   "execution_count": 5,
   "metadata": {
    "executionInfo": {
     "elapsed": 443,
     "status": "ok",
     "timestamp": 1679879371574,
     "user": {
      "displayName": "송창희",
      "userId": "00022936904453756715"
     },
     "user_tz": -540
    },
    "id": "sQ6Zhtf_mM67"
   },
   "outputs": [],
   "source": [
    "# 변수를 만들고 싶어요\n",
    "a = 100\n",
    "a = 3.14\n",
    "a = '안녕'\n",
    "\n",
    "# 변수를 삭제한다 : 기\n",
    "# del a"
   ]
  },
  {
   "cell_type": "code",
   "execution_count": 7,
   "metadata": {
    "colab": {
     "base_uri": "https://localhost:8080/",
     "height": 0
    },
    "executionInfo": {
     "elapsed": 556,
     "status": "ok",
     "timestamp": 1679879395250,
     "user": {
      "displayName": "송창희",
      "userId": "00022936904453756715"
     },
     "user_tz": -540
    },
    "id": "8D5tZYtfnKbi",
    "outputId": "6c91adfc-1932-455a-b025-1c8e0d8fe37b"
   },
   "outputs": [
    {
     "name": "stdout",
     "output_type": "stream",
     "text": [
      "안녕\n"
     ]
    }
   ],
   "source": [
    "print(a)"
   ]
  },
  {
   "cell_type": "code",
   "execution_count": 10,
   "metadata": {
    "executionInfo": {
     "elapsed": 2,
     "status": "ok",
     "timestamp": 1679879577550,
     "user": {
      "displayName": "송창희",
      "userId": "00022936904453756715"
     },
     "user_tz": -540
    },
    "id": "xxr-maWZnVVJ"
   },
   "outputs": [],
   "source": [
    "# Python의 built-in data type\n",
    "# 타입은 범주를 지칭함\n",
    "# 1. Numeric(숫자) : 정수, 실수\n",
    "# 2. Sequence : list\n",
    "# 3. Text Sequence\n",
    "# 4. Mapping\n",
    "# 5. Set\n",
    "# 6. Bool"
   ]
  },
  {
   "cell_type": "code",
   "execution_count": 13,
   "metadata": {
    "colab": {
     "base_uri": "https://localhost:8080/",
     "height": 0
    },
    "executionInfo": {
     "elapsed": 498,
     "status": "ok",
     "timestamp": 1679880129482,
     "user": {
      "displayName": "송창희",
      "userId": "00022936904453756715"
     },
     "user_tz": -540
    },
    "id": "uIesJz9PoWuw",
    "outputId": "f9fe102b-416b-49bc-cb54-a9b2495bc74c"
   },
   "outputs": [
    {
     "name": "stdout",
     "output_type": "stream",
     "text": [
      "<class 'int'>\n",
      "<class 'float'>\n",
      "0.864219864\n"
     ]
    }
   ],
   "source": [
    "# 1. Numeric(숫자)\n",
    "# 정수, 실수, (복소수), 진수(8진수, 16진수...)\n",
    "a = 123 #정수 => 123 정수 자체가 객체이고 해당 객체를 a가 reference하는 것임.\n",
    "b = 3.14159265358979 #실수\n",
    "print(type(a))\n",
    "print(type(b))\n",
    "\n",
    "result = 3.456879456 / 4 #자바의 경우 0\n",
    "print(result) #파이썬의 경우 0.75\n"
   ]
  },
  {
   "cell_type": "code",
   "execution_count": 16,
   "metadata": {
    "colab": {
     "base_uri": "https://localhost:8080/",
     "height": 0
    },
    "executionInfo": {
     "elapsed": 447,
     "status": "ok",
     "timestamp": 1679881171023,
     "user": {
      "displayName": "송창희",
      "userId": "00022936904453756715"
     },
     "user_tz": -540
    },
    "id": "U-t5SXWPqYF8",
    "outputId": "593628cb-3715-4ec4-bb1e-570c88e4b22e"
   },
   "outputs": [
    {
     "name": "stdout",
     "output_type": "stream",
     "text": [
      "<class 'list'>\n",
      "[1, 2, 3, [3.15, 5.25, 100], 4, 5]\n",
      "1\n",
      "5\n",
      "100\n"
     ]
    }
   ],
   "source": [
    "# sequence built-in data type = 내부의 자료구조로 이뤄짐\n",
    "# 3가지가 있음.\n",
    "# list (python의 가장 중요한 자료구조이자 data type)\n",
    "# 객체를 순서대로 저장하는 집합형 자료구조 \n",
    "# java의 arraylist와 유사함\n",
    "# literal은 어떻게 되나요? [] 파이썬에는 배열이 없음. \n",
    "\n",
    "myList = list() #요소가 없는 list 객체를 생성함.\n",
    "myList = [1, 3.14, 100] # literal로 표현함\n",
    "print(type(myList)) # <class 'list'>\n",
    "# 중첩 리스트\n",
    "myList = [1, 2, 3, [3.15, 5.25, 100], 4, 5]\n",
    "# 차원의 개념이 없음.\n",
    "print(myList)\n",
    "print(myList[0]) #1 => indexing이 가능함.\n",
    "print(myList[-1]) # indexing에서 음수값은 뒤에서 1번쨰 이런 식임.\n",
    "print(myList[3][2]) # indexing : 위치에 대한 숫자를 가지고 해당 자료를 정확하게 선택하고 이용하는 행동\n",
    "\n",
    "# slicing : 잘라내다. 집합자료구조에서 원하는 데이터마 잘라내어 원본과 결과본의 데이터 타입이 언제나 같음\n",
    "print(myList[0:2]) # 0부터 2까지 슬라이싱해라. / #의 앞쪽부터 2는 / 뒤는 불포함 [1, 2]\n",
    "print(myList[0:1]) #이것도 결과는 list로 나옴.\n",
    "\n",
    "print(myList[1:]) # 1번부터 끝까지를 슬라이싱\n",
    "print(myList[:2]) # 처음부터 2번까지 = 0, 1\n",
    "print(myList[:]) # 모든걸 슬라이싱 => 복사할 때 사용함.\n",
    "# ----------기본 slicing\n",
    "\n",
    "\n"
   ]
  },
  {
   "cell_type": "code",
   "execution_count": null,
   "metadata": {
    "id": "RFOl2yE70CK2"
   },
   "outputs": [],
   "source": [
    "#list의 연산\n",
    "a = [1,2,3]\n",
    "b = [4,5,6]\n",
    "c = a + b\n",
    "print(c) #[1,2,3,4,5,6] => list를 연결해서 벡터연산을 유사하게 따라함.\n",
    "c = a * 3 # => a + a + a\n",
    "print(c) #[1,2,3,1,2,3,1,2,3]\n"
   ]
  },
  {
   "cell_type": "code",
   "execution_count": 17,
   "metadata": {
    "colab": {
     "base_uri": "https://localhost:8080/",
     "height": 0
    },
    "executionInfo": {
     "elapsed": 504,
     "status": "ok",
     "timestamp": 1679883053048,
     "user": {
      "displayName": "송창희",
      "userId": "00022936904453756715"
     },
     "user_tz": -540
    },
    "id": "Ft84ZIef07g7",
    "outputId": "8d452725-6cb9-415a-d83f-d3c7cf010f28"
   },
   "outputs": [
    {
     "name": "stdout",
     "output_type": "stream",
     "text": [
      "[1, 2, 3, 4]\n"
     ]
    }
   ],
   "source": [
    "# list는 객체이다. \n",
    "# 따라서 수많은 method를 가지고 있다.\n",
    "# 하나만 기억하자\n",
    "a = [1,2,3]\n",
    "a.append(4) #list 배열의 맨 끝의 요소에 해당 값을 중첩 list형태로 추가함\n",
    "print(a)\n",
    "a.append([4,5])\n",
    "print(a) #[1, 2, 3, [4, 5]]\n"
   ]
  },
  {
   "cell_type": "code",
   "execution_count": 22,
   "metadata": {
    "colab": {
     "base_uri": "https://localhost:8080/",
     "height": 0
    },
    "executionInfo": {
     "elapsed": 487,
     "status": "ok",
     "timestamp": 1679884318293,
     "user": {
      "displayName": "송창희",
      "userId": "00022936904453756715"
     },
     "user_tz": -540
    },
    "id": "ZbWJCJyH2Af9",
    "outputId": "9f756684-5e8a-43cd-bde9-270241b5748c"
   },
   "outputs": [
    {
     "name": "stdout",
     "output_type": "stream",
     "text": [
      "<class 'tuple'>\n",
      "3\n",
      "(3,)\n",
      "(1, 2, 3, [4, 100, 6], 7)\n",
      "[1, 2, 3]\n"
     ]
    }
   ],
   "source": [
    "# Sequence built-in data type\n",
    "# 1. list\n",
    "# 2. tuple (Python만의 고유한 문법)\n",
    "# tuple은 기본적으로 list와 동일하나, read only의 속성을 가짐(데이터를 변경시킬 수 없음)\n",
    "\n",
    "a = list()\n",
    "a = tuple() #literal이 아니라 class를 이용해서 객체를 생성함.\n",
    "a = (1, 2, 3, 4) #tuple \n",
    "print(type(a))\n",
    "a = (1,) #보통 연산자 우선순위를 표기하기 위해서 소괄호를 사용하는데, tuple인지 괄호인지 확인을 하기위해 컴마를 표기함.\n",
    "a = (1, 2, 3, 4)\n",
    "print(a[2]) # 결과값 : 3\n",
    "print(a[2:3]) # 결과값 : (3, )\n",
    "#a[3] = 100 # tuple의 값은 바꿀 수 없어서 에러발생함\n",
    "a = (1, 2, 3, [4, 5, 6,], 7)\n",
    "a[3][1] = 100\n",
    "print(a) # 결과값 : (1, 2, 3, [4, 100, 6), 7]) #모든 값이 객체이므로, 각자 heqp영역에서 저장소를 갖고있음, 따라서 \n",
    "\n",
    "a = (1, 2, 3)\n",
    "# tuple의 가장 큰 특성 : 괄호 기호를 생략할 수 있음. // 1개짜리는 생략하면 안됨.\n",
    "a = 1, 2, 3  # 이게 튜플임 ㅎㅎㅎㅎ 일반적으로 사용하는 형태임.\n",
    "a, b, c = 1, 2, 3 # 양변 모두 튜플임. \n",
    "\n",
    "# 이 외의 특성은 모두 list와 동일함 => 연산, ...\n",
    "a = (1, 2, 3)\n",
    "b = list(a)\n",
    "print(b) #[1,2,3] \n",
    "# tuple -> list / list -> tuple 가능.\n",
    "\n"
   ]
  },
  {
   "cell_type": "code",
   "execution_count": 27,
   "metadata": {
    "colab": {
     "base_uri": "https://localhost:8080/",
     "height": 0
    },
    "executionInfo": {
     "elapsed": 473,
     "status": "ok",
     "timestamp": 1679884796289,
     "user": {
      "displayName": "송창희",
      "userId": "00022936904453756715"
     },
     "user_tz": -540
    },
    "id": "fl2ra2zV6Fml",
    "outputId": "bf47ecab-5222-4f48-a04c-57a2773f362a"
   },
   "outputs": [
    {
     "name": "stdout",
     "output_type": "stream",
     "text": [
      "range(0, 10)\n",
      "0\n"
     ]
    }
   ],
   "source": [
    "# Sequence built-in data type\n",
    "# 1. list\n",
    "# 2. tuple (Python만의 고유한 문법)\n",
    "# 3. range => literal로 쓰지 않음\n",
    "\n",
    "a = range(10) #시작은 정수 0부터 시작해서 10까지 1씩 증가하는 숫자의 범위를 지정함.\n",
    "print(a) # range(0, 10) # 범위를 나타낼 뿐, 실제 데이터는 가지고 있지 않음. 메모리의 낭비를 줄이고, 큰 숫자의 범위를 나타냄\n",
    "print(a[0]) # 결과값 : 0\n",
    "a = range(2, 20, 2) # 2씩 증가해서 20보다 적은 숫자의 범위를 표현함\n"
   ]
  },
  {
   "cell_type": "code",
   "execution_count": 29,
   "metadata": {
    "colab": {
     "base_uri": "https://localhost:8080/",
     "height": 0
    },
    "executionInfo": {
     "elapsed": 433,
     "status": "ok",
     "timestamp": 1679885291313,
     "user": {
      "displayName": "송창희",
      "userId": "00022936904453756715"
     },
     "user_tz": -540
    },
    "id": "T-TIwVnn8KnN",
    "outputId": "53332662-952e-44ce-a9d4-919787896d56"
   },
   "outputs": [
    {
     "name": "stdout",
     "output_type": "stream",
     "text": [
      "<class 'str'>\n",
      "홍길동\n"
     ]
    }
   ],
   "source": [
    "# Text Sequence \n",
    "# 문자열 타입 - 사용하는 class는 str 이라고 함\n",
    "# literal은 '' 또는 \"\" 둘다 사용할 수 있음. (default : '') => Python에서는 몬주개념이 없고 모든게 다 문자열임.\n",
    "\n",
    "a = '이것은 소리없는 아우성!'\n",
    "print(type(a)) \n",
    "\n",
    "# Text Sequence는 기반이 sequence => 실제로는 list임.\n",
    "\n",
    "a = '홍'\n",
    "b = '길동'\n",
    "print(a + b)"
   ]
  },
  {
   "cell_type": "code",
   "execution_count": 38,
   "metadata": {
    "colab": {
     "base_uri": "https://localhost:8080/",
     "height": 0
    },
    "executionInfo": {
     "elapsed": 776,
     "status": "ok",
     "timestamp": 1679886797660,
     "user": {
      "displayName": "송창희",
      "userId": "00022936904453756715"
     },
     "user_tz": -540
    },
    "id": "GSzMxL56CAUB",
    "outputId": "1460ecc3-b105-4006-f8b1-1bb6c55d3ccf"
   },
   "outputs": [
    {
     "name": "stdout",
     "output_type": "stream",
     "text": [
      "이\n",
      "이것은\n",
      "True\n",
      "이것은 소리없는 아우성 ㅇㅇ\n"
     ]
    }
   ],
   "source": [
    "a = '이것은 소리없는 아우성!'\n",
    "print(a[0]) #list\n",
    "print(a[0:3]) #list\n",
    "\n",
    "#기억해야할 특이한 연산자 : 문자열 안에 해당 '' 문자가 있는가 True / False \n",
    "print('소리' in a)\n",
    "\n",
    "# 문자열은 str class의 객체로 굉장히 많은 method를 가지고 있음.\n",
    "print('이것은 {}없는 {} {}' .format('소리', '아우성', 'ㅇㅇ'))"
   ]
  },
  {
   "cell_type": "code",
   "execution_count": 55,
   "metadata": {
    "colab": {
     "base_uri": "https://localhost:8080/"
    },
    "executionInfo": {
     "elapsed": 3,
     "status": "ok",
     "timestamp": 1679887953165,
     "user": {
      "displayName": "송창희",
      "userId": "00022936904453756715"
     },
     "user_tz": -540
    },
    "id": "14C9pwX3D4E5",
    "outputId": "c06fcbf3-c97b-46cb-bedb-c63f6769b764",
    "scrolled": true
   },
   "outputs": [
    {
     "name": "stdout",
     "output_type": "stream",
     "text": [
      "<class 'dict'>\n",
      "{'name': '홍길동', 'age': 20, '주소': '서울'}\n",
      "dict_keys(['name', 'age', '주소'])\n",
      "dict_values(['홍길동', 20, '서울'])\n",
      "name\n",
      "age\n",
      "주소\n"
     ]
    }
   ],
   "source": [
    "# 4. Mapping = Json과 유사함\n",
    "# Map구조( key 와 value 데이터를 저장하는 구조 )\n",
    "# 파이썬에서는 이런 자료구조를 dictionary 라고 부름\n",
    "# 당연히 사용하는 class는 dict \n",
    "\n",
    "#literal로 표현할 수 있음(기호) => \n",
    "\n",
    "# [] : list\n",
    "# () : tuple\n",
    "# {} : dictionary\n",
    "\n",
    "a = { 'name' : '홍길동', 'age' : 20}\n",
    "print(type(a))\n",
    "\n",
    "# 자바와 다르게 ptyhon의 dictionary는 동적으로 데이터를 추가할 수 있어요\n",
    "a['주소'] = '서울'\n",
    "print(a) # {'name': '홍길동', 'age': 20, '주소': '서울'} => 끝에 추가됨\n",
    "\n",
    "print(a.keys()) # dict_keys(['name', 'age', '주소'])\n",
    "# 결과론적으로 형태는 key를 모아 list형태로 return하는 것 같지만?\n",
    "# dict_keys => list와 유사한 별도의 자료구조임 => list와 기능은 유사하나, list가 갖고있는 method를 사용할 수 없다는 점이 차이점이다.\n",
    "print(a.values()) \n",
    "\n",
    "# 일반적으로 for문을 이용할 때 Mapping이 사용됨.\n",
    "\n",
    "# for ~ in ~ (리스트, 튜플, list와 유사한 자료구조) # for each 구문과 집항형 유사함.\n",
    "for tmp in a.keys(): \n",
    "    print(tmp)\n"
   ]
  },
  {
   "cell_type": "code",
   "execution_count": 2,
   "metadata": {},
   "outputs": [
    {
     "name": "stdout",
     "output_type": "stream",
     "text": [
      "{1, 2, 3, 4}\n",
      "<class 'set'>\n"
     ]
    }
   ],
   "source": [
    "# 5. set\n",
    "# 우리가 알고있는 그 set이에요.\n",
    "# 순서가 구분이 없어요, 중복은 배제해요\n",
    "\n",
    "#literal로 set은? {}\n",
    "#[] = list , {} = dictionary (key와 value의 쌍으로 표현), () = tuple\n",
    "a = {1, 2, 3, 4, 1, 2, 3}\n",
    "print(a) # 결과 : {1, 2, 3, 4}\n",
    "print(type(a)) # <class 'set'>"
   ]
  },
  {
   "cell_type": "code",
   "execution_count": null,
   "metadata": {},
   "outputs": [],
   "source": [
    "# 6. Bool\n",
    "# True, False\n"
   ]
  },
  {
   "cell_type": "code",
   "execution_count": 11,
   "metadata": {},
   "outputs": [
    {
     "ename": "SyntaxError",
     "evalue": "invalid syntax (2524238314.py, line 7)",
     "output_type": "error",
     "traceback": [
      "\u001b[1;36m  Cell \u001b[1;32mIn[11], line 7\u001b[1;36m\u001b[0m\n\u001b[1;33m    pass(print('gg'))\u001b[0m\n\u001b[1;37m        ^\u001b[0m\n\u001b[1;31mSyntaxError\u001b[0m\u001b[1;31m:\u001b[0m invalid syntax\n"
     ]
    }
   ],
   "source": [
    "# control statement\n",
    "# 제어문(if, for)\n",
    "\n",
    "#in 문자열에 특정 문자가 들어가있으면 True = 여러 데이터 중, 해당 데이터가 포함되있는지 체크\n",
    "area = ['서울', '부산', '제주']\n",
    "if '서울' in area:\n",
    "    pass\n",
    "else: \n",
    "    print('지역안에 없어요!')\n",
    "    \n"
   ]
  },
  {
   "cell_type": "code",
   "execution_count": 23,
   "metadata": {},
   "outputs": [
    {
     "name": "stdout",
     "output_type": "stream",
     "text": [
      "0 감, 1 감, 2 감, 3 감, 4 감, 5 감, 6 감, 7 감, 8 감, 9 감, 홍길동, 신사임당, 강감찬, "
     ]
    }
   ],
   "source": [
    "# for문\n",
    "# for문의 2가지 형태 : \n",
    "# 1. for ~ in ~ range() / range = 실제값은 아니나, 논리적인 값의 집합임.=> 0번 반복해라.\n",
    "# 2. for ~ in ~ list, dict\n",
    "\n",
    "# 반복할 횟수를 명시적으로 지정할 때 사용함.\n",
    "# print() : 인자로 들어온 문자열을 출력하고 한줄을 띄워요. \n",
    "# print( , end=', ') 정해져있는 속성은 end를 사용해 2번째 속성값을 지정해줌. \n",
    "for test in range(10):\n",
    "    print(test, name, end=', ')\n",
    "    \n",
    "a = ['홍길동', '신사임당', '강감찬']\n",
    "for name in a:\n",
    "    print(name, end=', ')"
   ]
  },
  {
   "cell_type": "code",
   "execution_count": 25,
   "metadata": {},
   "outputs": [
    {
     "name": "stdout",
     "output_type": "stream",
     "text": [
      "60\n"
     ]
    }
   ],
   "source": [
    "# 함수는 어떻게 만드나요??\n",
    "\n",
    "# java Script의 경우 : function myFunc() { }\n",
    "# java의 경우 : class 안의 method : class A { method() ..}\n",
    "\n",
    "# python에서는 함수를 만들 수 있음 : def(정의한다.)\n",
    "def myFunc(a,b,c): \n",
    "    return a + b + c\n",
    "result = myFunc(10,20,30)\n",
    "print(result)"
   ]
  }
 ],
 "metadata": {
  "colab": {
   "authorship_tag": "ABX9TyNANT0VDZa/z7KN0j6tfAaZ",
   "provenance": []
  },
  "kernelspec": {
   "display_name": "Python [conda env:data_env] *",
   "language": "python",
   "name": "conda-env-data_env-py"
  },
  "language_info": {
   "codemirror_mode": {
    "name": "ipython",
    "version": 3
   },
   "file_extension": ".py",
   "mimetype": "text/x-python",
   "name": "python",
   "nbconvert_exporter": "python",
   "pygments_lexer": "ipython3",
   "version": "3.8.16"
  }
 },
 "nbformat": 4,
 "nbformat_minor": 1
}
